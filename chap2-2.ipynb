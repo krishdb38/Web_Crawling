{
 "cells": [
  {
   "cell_type": "markdown",
   "metadata": {},
   "source": [
    "## 2-2 웹브라우저를 이용한 스크레이핑\n",
    "\n",
    "### 이번 절에서 배울 내용\n",
    "* 웹브라우저를 원격 조작하는 Selenium\n",
    "* 명령줄에서 사용할 수 있는 PhantomJS\n",
    "\n",
    "### 웹 브라우저 원격 조작에 사용하는 Selenium\n",
    "\n",
    "* 자바 스크립트를 많이 사용하는 웹 사이트는 웹 브라우저를 사용하지 않을 경우 제대로 동작을 확인할 수 없으며 requests 모듈로 처리가 어려움\n",
    "* 웹 브라우저를 원격으로 사용하여 웹 페이지에서 데이터를 스크레이핑 할 수 있는 방법이 요구됨.\n",
    "* 웹 애플리케이션 테스트 자동화에 사용하는 Selenium을 이용하여 웹브라우저를 원격 조작할 수 있음.\n",
    "* Selenium을 이용하면 자동으로 URL을 열고 클릭할 수 있으며, 스크롤하거나, 문자를 입력하는 등의 다양한 조작을 자동화할 수 있음. 또한, 화면을 캡쳐해서 이미지로 저장하거나 HTML의 특정 부분을 꺼내는 것도 가능함\n",
    "* 또한 구글 크롬, 파이어폭스, 인터넷 익스플로러, 오페라 등의 다양한 웹 브라우저를 원격으로 조작할 수 있음\n",
    "\n",
    "### 화면 없는 웹브라우저 \"PhantomJS\"\n",
    "\n",
    "* Selenium과 함께 크롬, 파이어폭스 등의 웹 브라우저를 사용하는 방법 외에도 화면 없이 명령줄에서 사용할 수 있는 웹 브라우저인 PhantomJS 가 있음.\n",
    "* PhamtomJS는 명령줄에서 사용할 수 있는 웹브라우저로 레이아웃 엔진으로 WebKit을 사용한다. WebKit은 애플에서 만든 웹브라우저인 사파리의 렌더링 엔진임. 크롬 등은 Blink라는 렌더링 엔진을 사용하는데, 사실 Blink도 WebKit을 기반으로 만들어진 것임. 또한 PhantomJS는 자바스크립트 엔젠으로 JavsScriptCore를 사용하고 있는데 이것도 사파리와 같은 엔진임\n",
    "* PhantomJS를 이용하면 명령줄에서 웹 브라우저를 조작할 수 있다 .따라서 브라우저 내부에 출력되는 데이터를 추출하거나 스크린샷을 찍을 수 있다. 스크레이핑, UI 테스트 자동화 등에 활용됨.\n",
    "* PhantomJS 웹사이트: <http://phantomjs.org/>\n",
    "\n",
    "### Selenium+PhantomJS 실행 환경 준비\n",
    "\n",
    "* 다음의 URL 참조 <https://beomi.github.io/2017/02/27/HowToMakeWebCrawler-With-Selenium/> 의 내용을 수정 및 편집한 것임.\n",
    "\n",
    "#### selenium 설치\n",
    "* jupyter에서 terminal로 나가서 \"pip install selenium\"으로 selenium 설치\n",
    "* Selenium은 webdriver라는 것을 통해 디바이스에 설치된 브라우저들을 제어할 수 있는데 Chrome을 사용해 본다.\n",
    "\n",
    "#### Chrome WebDriver 설치\n",
    "\n",
    "* 크롬을 사용하려면 로컬에 크롬이 설치되어있어야 한다. 다음의 URL에서 크롬을 최신 버전으로 다운로드 받는다.\n",
    "* <https://sites.google.com/a/chromium.org/chromedriver/downloads>\n",
    "* 크롬드라이버를 적당한 위치에 저장\n",
    "\n",
    "#### PhantomJS webdriver 설치\n",
    "\n",
    "* PhantomJS는 기본적으로 WebTesting을 위해 나온 Headless Browser다.(즉, 화면이 존재하지 않는다)\n",
    "* 하지만 JS등의 처리를 온전하게 해주며 CLI환경에서도 사용이 가능하기 때문에, 만약 CLI서버 환경에서 돌아가는 크롤러라면 PhantomJS를 사용하는 것도 방법이다.\n",
    "* PhantomJS는 PhantomJS Download Page <http://phantomjs.org/download.html>에서 받을 수 있다.\n",
    "* Binary 자체로 제공되기 때문에, Linux를 제외한 OS에서는 외부 dependency없이 바로 실행할 수 있다.\n",
    "\n",
    "#### selenium으로 사이트 브라우징 \n",
    "* Selenium은 webdriver api를 통해 브라우저를 제어한다.\n",
    "* 우선 webdriver를 import 한다."
   ]
  },
  {
   "cell_type": "code",
   "execution_count": 2,
   "metadata": {},
   "outputs": [],
   "source": [
    "from selenium import webdriver\n",
    "\n",
    "# Chrome의 경우 | 아까 받은 chromedriver의 위치를 지정해준다.\n",
    "driver = webdriver.Chrome('C:\\\\r_temp\\\\chromedriver.exe')\n",
    "# PhantomJS의 경우 | 아까 받은 PhantomJS의 위치를 지정해준다.\n",
    "#driver = webdriver.PhantomJS('C:\\\\r_temp\\\\phantomjs-2.1.1-windows\\\\bin\\\\phantomjs.exe')"
   ]
  },
  {
   "cell_type": "markdown",
   "metadata": {},
   "source": [
    "* Selenium은 기본적으로 웹 자원들이 모두 로드될때까지 기다려주지만, 암묵적으로 모든 자원이 로드될때 까지 기다리게 하는 시간을 직접 implicitly_wait을 통해 지정할 수 있다. 그런 후 원하는 페이지로 이동할 수 있다. \n",
    "* 아래의 예제는 google.com 으로 이동하는 예제임. 만약 chromedriver의 위치가 정확하다면 새 크롬 화면이 뜨고 구글 첫 화면으로 들어가질 것이다."
   ]
  },
  {
   "cell_type": "code",
   "execution_count": 4,
   "metadata": {},
   "outputs": [],
   "source": [
    "from selenium import webdriver\n",
    "\n",
    "driver = webdriver.Chrome('C:\\\\r_temp\\\\chromedriver.exe')\n",
    "# 3초간 기다리기\n",
    "driver.implicitly_wait(3)\n",
    "# url에 접근한다.\n",
    "driver.get('https://google.com')"
   ]
  },
  {
   "cell_type": "markdown",
   "metadata": {},
   "source": [
    "Selenium은 driver객체를 통해 여러가지 메소드를 제공한다.  \n",
    "URL에 접근하는 api,\n",
    "* get(‘http://url.com’)\n",
    "\n",
    "페이지의 단일 element에 접근하는 api,\n",
    "* find_element_by_name(‘HTML_name’)\n",
    "* find_element_by_id(‘HTML_id’)\n",
    "* find_element_by_xpath(‘/html/body/some/xpath’)\n",
    "\n",
    "페이지의 여러 elements에 접근하는 api 등이 있다.\n",
    "* find_element_by_css_selector(‘#css > div.selector’)\n",
    "* find_element_by_class_name(‘some_class_name’)\n",
    "* find_element_by_tag_name(‘h1’)\n",
    "\n",
    "위 메소드들을 활용시 HTML을 브라우저에서 파싱해주기 때문에 굳이 Python와 BeautifulSoup을 사용하지 않아도 된다.  \n",
    "하지만 Selenium에 내장된 함수만 사용가능하기 때문에 좀더 사용이 편리한 soup객체를 이용하려면 driver.page_source API를 이용해 현재 렌더링 된 페이지의 Elements를 모두 가져올 수 있다.;\n",
    "\n",
    "#### 웹 사이트를 이미지로 캡처해보기"
   ]
  },
  {
   "cell_type": "code",
   "execution_count": 5,
   "metadata": {},
   "outputs": [
    {
     "name": "stderr",
     "output_type": "stream",
     "text": [
      "C:\\Users\\sulihome\\Anaconda3\\lib\\site-packages\\selenium\\webdriver\\phantomjs\\webdriver.py:49: UserWarning: Selenium support for PhantomJS has been deprecated, please use headless versions of Chrome or Firefox instead\n",
      "  warnings.warn('Selenium support for PhantomJS has been deprecated, please use headless '\n"
     ]
    }
   ],
   "source": [
    "from selenium import webdriver\n",
    "url = \"http://www.naver.com/\"\n",
    "# PhantomJS 드라이버 추출하기 --- (※1)\n",
    "browser = webdriver.PhantomJS('C:\\\\r_temp\\\\phantomjs-2.1.1-windows\\\\bin\\\\phantomjs.exe')\n",
    "# PhantomJS 드라이버 추출하기 --- (※1)\n",
    "# 3초 대기하기 --- (※2)\n",
    "browser.implicitly_wait(3)\n",
    "# URL 읽어 들이기 --- (※3)\n",
    "browser.get(url)\n",
    "# 화면을 캡처해서 저장하기 --- (※4)\n",
    "browser.save_screenshot(\"Website.png\")\n",
    "# 브라우저 종료하기 --- (※5)\n",
    "browser.quit()"
   ]
  },
  {
   "cell_type": "markdown",
   "metadata": {},
   "source": [
    "![저장그림확인](Website.png)"
   ]
  },
  {
   "cell_type": "markdown",
   "metadata": {},
   "source": [
    "### 네이버에 로그인하기\n",
    "* 네이버는 requests를 이용해 로그인하는 것이 어렵다. 프론트 단에서 JS처리를 통해 로그인 처리를 하기 때문인데, Selenium을 이용하면 아주 쉽게 로그인을 할 수 있다.\n",
    "* 네이버 로그인 화면을 확인 해 보면 아이디를 입력받는 부분의 name이 id, ​비밀번호를 입력받는 부분의 name이 pw인 것을 알 수 있다.\n",
    "![저장그림확인](naver_login.png)\n"
   ]
  },
  {
   "cell_type": "code",
   "execution_count": 6,
   "metadata": {},
   "outputs": [],
   "source": [
    "from selenium import webdriver\n",
    "\n",
    "driver = webdriver.Chrome('C:\\\\r_temp\\\\chromedriver.exe')\n",
    "driver.implicitly_wait(3)\n",
    "# url에 접근한다.\n",
    "driver.get('https://nid.naver.com/nidlogin.login')"
   ]
  },
  {
   "cell_type": "markdown",
   "metadata": {},
   "source": [
    "* find_element_by_name을 통해 아이디/비밀번호 input 태그를 잡아주고, 값을 입력해 보자."
   ]
  },
  {
   "cell_type": "code",
   "execution_count": 16,
   "metadata": {
    "scrolled": true
   },
   "outputs": [],
   "source": [
    "from selenium import webdriver\n",
    "\n",
    "driver = webdriver.Chrome('C:\\\\r_temp\\\\chromedriver.exe')\n",
    "driver.implicitly_wait(3)\n",
    "# url에 접근한다.\n",
    "driver.get('https://nid.naver.com/nidlogin.login')\n",
    "driver.find_element_by_name('id').send_keys('naverid')\n",
    "driver.find_element_by_name('pw').send_keys('pwd')"
   ]
  },
  {
   "cell_type": "markdown",
   "metadata": {},
   "source": [
    "* 이제 Login버튼을 눌러 실제로 로그인이 되는지 확인해 보자.\n",
    "* 성공적으로 로그인이 되는 것을 확인할 수 있다. "
   ]
  },
  {
   "cell_type": "code",
   "execution_count": 18,
   "metadata": {},
   "outputs": [],
   "source": [
    "from selenium import webdriver\n",
    "\n",
    "driver = webdriver.Chrome('C:\\\\r_temp\\\\chromedriver.exe')\n",
    "driver.implicitly_wait(3)\n",
    "# url에 접근한다.\n",
    "driver.get('https://nid.naver.com/nidlogin.login')\n",
    "driver.find_element_by_name('id').send_keys('naver_id')\n",
    "driver.find_element_by_name('pw').send_keys('naver_pwd')\n",
    "# 로그인 버튼을 눌러주자.\n",
    "driver.find_element_by_xpath('//*[@id=\"frmNIDLogin\"]/fieldset/input').click()"
   ]
  },
  {
   "cell_type": "markdown",
   "metadata": {},
   "source": [
    "* 로그인이 필요한 페이지인 네이버 페이의 주문내역 페이지를 가져와보자.\n",
    "* 네이버 페이의 Url은 https://order.pay.naver.com/home 이다. 위 페이지의 알림 텍스트를 가져와 보자."
   ]
  },
  {
   "cell_type": "code",
   "execution_count": null,
   "metadata": {},
   "outputs": [],
   "source": [
    "\n",
    "# Naver 페이 들어가기\n",
    "driver.get('https://order.pay.naver.com/home')\n",
    "html = driver.page_source\n",
    "soup = BeautifulSoup(html, 'html.parser')\n",
    "notices = soup.select('div.p_inr > div.p_info > a > span')\n",
    "\n",
    "for n in notices:\n",
    "    print(n.text.strip())"
   ]
  },
  {
   "cell_type": "code",
   "execution_count": null,
   "metadata": {},
   "outputs": [],
   "source": []
  }
 ],
 "metadata": {
  "kernelspec": {
   "display_name": "Python 3",
   "language": "python",
   "name": "python3"
  },
  "language_info": {
   "codemirror_mode": {
    "name": "ipython",
    "version": 3
   },
   "file_extension": ".py",
   "mimetype": "text/x-python",
   "name": "python",
   "nbconvert_exporter": "python",
   "pygments_lexer": "ipython3",
   "version": "3.6.5"
  }
 },
 "nbformat": 4,
 "nbformat_minor": 2
}
