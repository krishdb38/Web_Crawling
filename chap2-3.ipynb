{
 "cells": [
  {
   "cell_type": "markdown",
   "metadata": {},
   "source": [
    "## 2-3 웹 API로 데이터 추출하기\n",
    "\n",
    "### 이번 절에서 배울 내용\n",
    "* 웹 API\n",
    "* 활용 가능한 웹 API\n",
    "\n",
    "### 웹 API\n",
    "* 날씨 정보, 상품 데이터, 주가, 환율 등의 다양한 정보를 웹서비스를 통해 제공하고 있으며 이러한 웹사이트 중에 웹 API를 제공하는 곳이 있음.\n",
    "* 웹 API는 어떤 사이트가 가지고 있는 기능을 외부에서도 쉽게 사용할 수 있게 공개한 것을 의미한다. 원래 API(Application Programming Interface)는 어떤 프로그램 기능을 외부의 프로그램에서 호출해서 사용할 수 있게 만든 것으로 간단하게 서로 다른 프로그램이 기능을 공유할 수 있게 절차와 규약을 정의한 것\n",
    "* 웹 API도 비슷한 데, 일반적으로 HTTP 통신을 사용하는데, 클라이언트 프로그램은 API를 제공하는 서버에 HTTP 요청을 보내면 서버가 이러한 요청을 기반으로 XML 또는 JSON 형식 등으로 응답한다.\n",
    "\n",
    "클라이언트 ----------> 서버 ----------> 클라이언트  \n",
    "&nbsp;&nbsp;&nbsp;&nbsp;&nbsp;&nbsp;&nbsp;&nbsp;&nbsp;&nbsp;(HTTP 요청) &nbsp;&nbsp;&nbsp;&nbsp;&nbsp;&nbsp;&nbsp;&nbsp;&nbsp;&nbsp;(HTTP 응답)\n",
    "* 대부분의 클라이언트 프로그래밍 언어는 XML과 JSON 형식의 데이터를 쉽게 처리하는 것이 가능함.\n",
    "\n"
   ]
  },
  {
   "cell_type": "markdown",
   "metadata": {},
   "source": [
    "### 웹 API를 제공하는 이유\n",
    "* 크롤링으로 인한 서버 부담 줄이고, 쉽게 데이터에 접근할 수 있도록 하기 위해 제공함. 유료도 있음.\n",
    "\n",
    "#### 웹 API의 단점\n",
    "* 웹 API 가 없어지거나 변경이 일어날 수 있음. \n",
    "\n",
    "### 웹 API 사용해보기 - OpenWeatherMap의 날씨 정보\n",
    "* 모든 날씨 정보를 가지고 있는 OpenWeatherMap을 사용해보고자 함.\n",
    "* API를 사용하기 위해서는 개발자 등록을 하고 API 키를 발급받아야 함. 다른 웹 API도 대부분 개발자 등록을 하고, API 키를 발급받아야 사용할 수 있음. \n",
    "* 이 API는 기본적으로 유료이지만 현재 날씨, 5일까지의 날씨는 무료로 사용할 수 있음. 다만 무료로 사용할 때는 1분에 60번만 호출할 수 있음. 실제 애플리케이션에서 활용해서 배포하기에는 무리가 있지만 연습하기에는 충분한 양임.\n",
    "* 다음 URL로 들어가서 사용자 등록을 하자. \n",
    "<https://home.openweathermap.org/users/sign_up>\n",
    "* 처음 가입하면 어떠한 곳에 사용할지 묻는데, 적당한 것 선택하고 OK 버튼을 누른다. 버튼 누르면 개발자 콘솔이 나오고 API Keys라는 탭에서 API키를 확인할 수 있음. Key는 32자 길이의 알파벳과 숫자의 조합임.\n",
    "* 다음은 서울, 뉴욕의 날씨를 가져와 출력하는 프로그램임."
   ]
  },
  {
   "cell_type": "code",
   "execution_count": 4,
   "metadata": {},
   "outputs": [
    {
     "name": "stdout",
     "output_type": "stream",
     "text": [
      "{'coord': {'lon': 126.98, 'lat': 37.57}, 'weather': [{'id': 800, 'main': 'Clear', 'description': 'clear sky', 'icon': '01n'}], 'base': 'stations', 'main': {'temp': 291.5, 'pressure': 1017, 'humidity': 82, 'temp_min': 290.15, 'temp_max': 293.15}, 'visibility': 10000, 'wind': {'speed': 2.1, 'deg': 330}, 'clouds': {'all': 0}, 'dt': 1537203600, 'sys': {'type': 1, 'id': 7676, 'message': 0.0074, 'country': 'KR', 'sunrise': 1537132550, 'sunset': 1537176990}, 'id': 1835848, 'name': 'Seoul', 'cod': 200}\n",
      "+ 도시 = Seoul\n",
      "| 날씨 = clear sky\n",
      "| 최저 기온 = 17.0\n",
      "| 최고 기온 = 20.0\n",
      "| 습도 = 82\n",
      "| 기압 = 1017\n",
      "| 풍향 = 330\n",
      "| 풍속 = 2.1\n",
      "\n",
      "{'coord': {'lon': -73.99, 'lat': 40.73}, 'weather': [{'id': 500, 'main': 'Rain', 'description': 'light rain', 'icon': '10d'}], 'base': 'stations', 'main': {'temp': 298.61, 'pressure': 1019, 'humidity': 81, 'temp_min': 297.05, 'temp_max': 299.85}, 'visibility': 16093, 'wind': {'speed': 5.1, 'deg': 170}, 'rain': {'1h': 0.25}, 'clouds': {'all': 90}, 'dt': 1537204680, 'sys': {'type': 1, 'id': 2120, 'message': 0.0071, 'country': 'US', 'sunrise': 1537180757, 'sunset': 1537225220}, 'id': 5128581, 'name': 'New York', 'cod': 200}\n",
      "+ 도시 = New York\n",
      "| 날씨 = light rain\n",
      "| 최저 기온 = 23.900000000000034\n",
      "| 최고 기온 = 26.700000000000045\n",
      "| 습도 = 81\n",
      "| 기압 = 1019\n",
      "| 풍향 = 170\n",
      "| 풍속 = 5.1\n",
      "\n"
     ]
    }
   ],
   "source": [
    "import requests\n",
    "import json\n",
    "# API 키를 지정합니다. 자신의 키로 변경해서 사용해주세요. --- (※1)\n",
    "apikey = \"474d59dd890c4108f62f192e0c6fce01\"\n",
    "# 날씨를 확인할 도시 지정하기 --- (※2)\n",
    "cities = [\"Seoul,KR\", \"New York,US\"]\n",
    "# API 지정 --- (※3)\n",
    "api = \"http://api.openweathermap.org/data/2.5/weather?q={city}&APPID={key}\"\n",
    "# 켈빈 온도를 섭씨 온도로 변환하는 함수 --- (※4)\n",
    "k2c = lambda k: k - 273.15\n",
    "# 각 도시의 정보 추출하기 --- (※5)\n",
    "for name in cities:\n",
    "    # API의 URL 구성하기 --- (※6)\n",
    "    url = api.format(city=name, key=apikey)\n",
    "    # API에 요청을 보내 데이터 추출하기\n",
    "    r = requests.get(url)\n",
    "    # 결과를 JSON 형식으로 변환하기 --- (※7)\n",
    "    data = json.loads(r.text)    \n",
    "    print(data)\n",
    "    # 결과 출력하기 --- (※8)\n",
    "    print(\"+ 도시 =\", data[\"name\"])\n",
    "    print(\"| 날씨 =\", data[\"weather\"][0][\"description\"])\n",
    "    print(\"| 최저 기온 =\", k2c(data[\"main\"][\"temp_min\"]))\n",
    "    print(\"| 최고 기온 =\", k2c(data[\"main\"][\"temp_max\"]))\n",
    "    print(\"| 습도 =\", data[\"main\"][\"humidity\"])\n",
    "    print(\"| 기압 =\", data[\"main\"][\"pressure\"])\n",
    "    print(\"| 풍향 =\", data[\"wind\"][\"deg\"])\n",
    "    print(\"| 풍속 =\", data[\"wind\"][\"speed\"])\n",
    "    print(\"\")"
   ]
  },
  {
   "cell_type": "markdown",
   "metadata": {},
   "source": [
    "* 도시 목록 데이터\n",
    "<http://bulk.openweathermap.org/sample/city.list.json.gz>\n",
    "\n",
    "\n",
    "1. API 키를 지정\n",
    "1. 날씨를 알고 싶은 도시 목록을 배열로 지정, 도시 이름과 국가를 알고 싶은 경우 위의 도시 목록 데이터를 다운받아 참고할 것\n",
    "1. API의 기본적인 형태 지정, 매개변수 q에 도시이름, APPID에 API 키를 지정. 파이썬에서는 xxx{name}xxx와 같은 형식으로 문자열을 만들고, format() 메서도로 {name} 부분을 다른 문자열로 대체할 수 있음. 6번에서 이러한 처리를 했음\n",
    "1. lamda 식으로 k2c 라는 함수를 정의하였음. API 결과에 포함되어 있는 기온 데이터는 단위가 켈빈 온도(K: 절대 온도)이다. 따라서 섭씨 온도로 변환해야 읽기 쉬우며 켈빈 온도를 섭씨 온도로 변환하는 함수를 정의한 것임.\n",
    "1. 각 도시의 기온을 추출한다.\n",
    "1. API로 요청할 URL을 만들고, 다음 줄에서 요청을 전송한 뒤 결과를 얻는다. 웹 API의 결과는 JSON 형식이다.\n",
    "1. json.loads() 메서드를 사용해 JSON 형식의 데이터를 파이썬 데이터로 변환한다.\n",
    "1. 결과를 화면에 출력한다.\n",
    "1. OpenWeatherMap도 API의 결과는 JSON 형식으로 리턴한다. 대부분의 웹 API는 결과를 XML이나 JSON 형식으로 리턴한다. 두 형식 모두 계층 구조를 가지고 있으므로 복잡한 데이터를 표현할 수 있음. 그리고 파이썬에서는 XML과 JSON 모두 간단하게 활용할 수 있는 기능을 제공함.\n",
    "\n",
    "### 국내에서 사용할 수 있는 웹 API\n",
    "* 다음 사이트를 찾아보면 굉장히 많은 웹 API를 볼 수 있음.\n",
    "    - <http://www.apistore.co.kr/api/apiList.do>\n",
    "    - <http://mashup.or.kr/business/main/main.do>\n",
    "\n",
    "* 네이버 개발자 센터와 다음 개발자 센터\n",
    "    - 네이버 개발자 센터 <https://developers.naver.com/main/>\n",
    "    - 다음 개발자 센터 <https://developers.daum.net>\n",
    "    \n",
    "#### 쇼핑정보\n",
    "* 다음의 사이트에서 쇼핑정보를 제공\n",
    "    - 다나와 <http://api.danawa.com/main/index.html>\n",
    "    - 옥션 <http://developer.auction.co.kr>\n",
    "\n",
    "#### 주소 전환\n",
    "* 주소 전환에는 다음과 같은 사이트 사용 가능\n",
    "    - 행정자치부 <http://www.juso.go.kr/openIndexPage.do>\n",
    "    - 우체국 <http://www.epost.go.kr/search.RetrieveNewAddressNewZipCdList.comm>"
   ]
  },
  {
   "cell_type": "code",
   "execution_count": null,
   "metadata": {},
   "outputs": [],
   "source": []
  }
 ],
 "metadata": {
  "kernelspec": {
   "display_name": "Python 3",
   "language": "python",
   "name": "python3"
  },
  "language_info": {
   "codemirror_mode": {
    "name": "ipython",
    "version": 3
   },
   "file_extension": ".py",
   "mimetype": "text/x-python",
   "name": "python",
   "nbconvert_exporter": "python",
   "pygments_lexer": "ipython3",
   "version": "3.6.5"
  }
 },
 "nbformat": 4,
 "nbformat_minor": 2
}
