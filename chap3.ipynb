{
 "cells": [
  {
   "cell_type": "markdown",
   "metadata": {},
   "source": [
    "## Chap 3 데이터 소스의 서식과 가공\n",
    "* 크롤링으로 수집된 데이터를 어떻게 다루어야 하는 지 살펴본다.\n",
    "* XML/JSON/CSV/엑셀 형식 데이터에 관해 살펴본다\n",
    "\n",
    "### XML 분석\n",
    "* XML 은 텍스트 데이터를 기반으로 하는 형식으로 보통 웹 API가 XML 형식을 활용\n",
    "* XML 즉 eXtensible Markup Language란 특정 목적에 따라 데이터를 태그로 감싸 마크업하는 범용적인 형식으로 W3C에 의해 만들어짐\n",
    "* XML은 계층구조로 표현할 수 있는 게 특징으로 어떤 데이터 아래에 서브 데이터를 추가할 수 있으며, 그러한 서브 데이터 아래에 또 다른 서브 데이터를 추가할 수 있음.\n",
    "* 다음 코드는 XML의 기본적인 구조를 나타내고 있음.\n",
    "```xml\n",
    "<요소 속성=\"속성값\">내용</요소>\n",
    "```\n",
    "* 데이터의 내용을 원하는 <요소> 태그로 감싸 마크업을 한다. 아무것이나 원하는 요소 이름을 사용하면 되고, 또한 하나의 요소에는 속성을 사용해 여러 값을 추가로 지정할 수 있음. \n",
    "```xml\n",
    "<product id=\"S001\" price=\"45000\">SD 카드</product>\n",
    "```\n",
    "* 이러한 요소는 다른 요소를 그룹으로 묶는 것도 가능\n",
    "```xml\n",
    "<products type=\"전자제품\">\n",
    "    <product id=\"S001\" price=\"45000\">SD 카드</product>\n",
    "    <product id=\"S002\" price=\"32000\">마우스</product>\n",
    "</products>\n",
    "```\n",
    "\n",
    "### 파이썬으로 XML 분석하기 - 날씨 분류하기\n",
    "\n",
    "** 기상청 전국날씨 **\n",
    "<http://www.kmo.go.kr/weather/forecast/mid-term-rss3.jsp?stnID=108>\n",
    "\n",
    "* 다음의 예제는 위의 XML 데이터를 내려 받아 현재 날씨를 분석하고 분류하는 프로그램임"
   ]
  },
  {
   "cell_type": "code",
   "execution_count": 3,
   "metadata": {},
   "outputs": [
    {
     "name": "stdout",
     "output_type": "stream",
     "text": [
      "+ 구름조금\n",
      "| -  서울\n",
      "| -  인천\n",
      "| -  수원\n",
      "| -  파주\n",
      "| -  대전\n",
      "| -  세종\n",
      "| -  홍성\n",
      "| -  청주\n",
      "| -  광주\n",
      "| -  목포\n",
      "| -  여수\n",
      "| -  전주\n",
      "| -  군산\n",
      "| -  부산\n",
      "| -  울산\n",
      "| -  창원\n",
      "| -  대구\n",
      "| -  안동\n",
      "| -  포항\n",
      "+ 구름많음\n",
      "| -  춘천\n",
      "| -  원주\n",
      "| -  강릉\n",
      "| -  제주\n",
      "| -  서귀포\n"
     ]
    }
   ],
   "source": [
    "from bs4 import BeautifulSoup \n",
    "import urllib.request as req\n",
    "import os.path\n",
    "url = \"http://www.kma.go.kr/weather/forecast/mid-term-rss3.jsp?stnId=108\"\n",
    "savename = \"forecast.xml\"\n",
    "# XML 파일 내려받기\n",
    "# request.urlretrieve() 함수를 사용해 처음 실행할 때 로커 파일로 데이터를 저장하고 두번째 이후 실행할 때는 저장한 데이터를 읽어 사용\n",
    "if not os.path.exists(savename):\n",
    "    req.urlretrieve(url, savename)\n",
    "# BeautifulSoup로 분석하기 --- (※2)\n",
    "xml = open(savename, \"r\", encoding=\"utf-8\").read()\n",
    "soup = BeautifulSoup(xml, 'html.parser')\n",
    "# 각 지역 확인하기 --- (※3)\n",
    "# BeautifulSoup는 모든 tag를 소문자로 변환하므로 find 등의 메소드를 쓸 때 주의해서 사용\n",
    "info = {}\n",
    "for location in soup.find_all(\"location\"):\n",
    "    name = location.find('city').string\n",
    "    weather = location.find('wf').string\n",
    "    if not (weather in info):\n",
    "        info[weather] = []\n",
    "    info[weather].append(name)\n",
    "# 각 지역의 날씨를 구분해서 출력하기\n",
    "for weather in info.keys():\n",
    "    print(\"+\", weather)\n",
    "    for name in info[weather]:\n",
    "        print(\"| - \", name)"
   ]
  },
  {
   "cell_type": "markdown",
   "metadata": {},
   "source": [
    "### JSON 분석\n",
    "* JSON(JavaScript Object Notation) 도 텍스트 데이터를 기반으로 하는 가벼운 데이터 형식\n",
    "* JSON은 자바스크립트에서 사용하는 객체 표기방법을 기반으로 함. JSON은 다양한 소프트웨어와 프로그래밍 언어끼리 데이터를 교환할 때 사용\n",
    "* 인터넷 표준 문서 RFC4627로 표준이 만들어져 있으며 MIME 타입은 \"application/json\"이며 확장자는 .json임\n",
    "* JSON은 구조가 단순하다는 것이 장점으로 수많은 프로그래밍 언어에서 인코딩/디코딩 표준으로 JSON을 제공하고 있음\n",
    "* 파이썬 모듈에도 json이 포함되어 있으며 많은 웹 API 들이 JSON 형식으로 데이터를 제공하고 있음.\n",
    "* JSON 소개 페지이: <http://json.org>\n",
    "\n",
    "#### JSON의 구조\n",
    "* JSON에서는 숫자, 문자열, 불(true|false), 배열, 객체, null이라는 6가지 종류의 데이터를 사용하고 있음.\n",
    "* 각각의 표현 방법은 다음과 같음\n",
    "\n",
    "| 자료형 | 표현방법 | 사용예 |\n",
    "| --- | ---- | ---- |\n",
    "| 숫자  | 숫자 | 30 |\n",
    "| 문자열  | 큰 따옴표로 감싸 표현 | \"str\" |\n",
    "| 불  | true or false | true |\n",
    "| 배열  | [n1, n2, n3] | [1,2,10,500] |\n",
    "| 객체  | {\"key\":value, \"key\":value,...}  | {\"org\":50, \"com\":10} |\n",
    "| null  | null | null |\n",
    "\n",
    "#### 파이썬으로 JSON 분석하기\n",
    "* 파이썬에서 JSON을 다루는 것은 매우 간단한데 JSON의 배열(Array)은 파이썬의 리스트(list)와 같으며, JSON의 객체(Object)는 파이썬의 딕셔너리(dict)와 같기 때문임.\n",
    "* 데이터는 <http://api.github.com/repositories> 를 이용함. 클릭해서 내용을 확인해본다.\n",
    "* 다음의 예제는 이 파일을 분석해 보는 것임."
   ]
  },
  {
   "cell_type": "code",
   "execution_count": 4,
   "metadata": {},
   "outputs": [
    {
     "name": "stdout",
     "output_type": "stream",
     "text": [
      "grit - mojombo\n",
      "merb-core - wycats\n",
      "rubinius - rubinius\n",
      "god - mojombo\n",
      "jsawesome - vanpelt\n",
      "jspec - wycats\n",
      "exception_logger - defunkt\n",
      "ambition - defunkt\n",
      "restful-authentication - technoweenie\n",
      "attachment_fu - technoweenie\n",
      "microsis - Caged\n",
      "s3 - anotherjesse\n",
      "taboo - anotherjesse\n",
      "foxtracs - anotherjesse\n",
      "fotomatic - anotherjesse\n",
      "glowstick - mojombo\n",
      "starling - defunkt\n",
      "merb-more - wycats\n",
      "thin - macournoyer\n",
      "resource_controller - jamesgolick\n",
      "markaby - jamesgolick\n",
      "enum_field - jamesgolick\n",
      "subtlety - defunkt\n",
      "zippy - defunkt\n",
      "cache_fu - defunkt\n",
      "phosphor - KirinDave\n",
      "sinatra - bmizerany\n",
      "gsa-prototype - jnewland\n",
      "duplikate - technoweenie\n",
      "lazy_record - jnewland\n",
      "gsa-feeds - jnewland\n",
      "votigoto - jnewland\n",
      "mofo - defunkt\n",
      "xhtmlize - jnewland\n",
      "ruby-git - ruby-git\n",
      "bmhsearch - ezmobius\n",
      "mofo - uggedal\n",
      "simply_versioned - mmower\n",
      "gchart - abhay\n",
      "schemr - benburkert\n",
      "calais - abhay\n",
      "chronic - mojombo\n",
      "git-wiki - sr\n",
      "signal-wiki - queso\n",
      "ruby-on-rails-tmbundle - drnic\n",
      "low-pro-for-jquery - danwrong\n",
      "merb-core - wayneeseguin\n",
      "dst - sr\n",
      "yaws - mojombo\n",
      "yaws - KirinDave\n",
      "tasks - sr\n",
      "ruby-on-rails-tmbundle - mattetti\n",
      "amazon-ec2 - grempe\n",
      "merblogger - wayneeseguin\n",
      "merbtastic - wayneeseguin\n",
      "alogr - wayneeseguin\n",
      "autozest - wayneeseguin\n",
      "rnginx - wayneeseguin\n",
      "sequel - wayneeseguin\n",
      "simply_versioned - bmizerany\n",
      "switchpipe - peterc\n",
      "arc - hornbeck\n",
      "ebay4r - up_the_irons\n",
      "merb-plugins - wycats\n",
      "ram - up_the_irons\n",
      "ambitious_activeldap - defunkt\n",
      "fitter_happier - atmos\n",
      "oebfare - brosner\n",
      "credit_card_tools - up_the_irons\n",
      "rorem - jnicklas\n",
      "braid - cristibalan\n",
      "uploadcolumn - jnicklas\n",
      "ruby-on-rails-tmbundle - simonjefford\n",
      "rack-mirror - chneukirchen\n",
      "coset-mirror - chneukirchen\n",
      "javascript-unittest-tmbundle - drnic\n",
      "eycap - engineyard\n",
      "gitsum - chneukirchen\n",
      "sequel-model - wayneeseguin\n",
      "god - kevinclark\n",
      "blerb-core - hornbeck\n",
      "django-mptt - brosner\n",
      "bus-scheme - technomancy\n",
      "javascript-bits - Caged\n",
      "groomlake - Caged\n",
      "forgery - sevenwire\n",
      "ambitious-sphinx - technicalpickles\n",
      "soup - lazyatom\n",
      "rails - josh\n",
      "backpacking - cdcarter\n",
      "capsize - jnewland\n",
      "starling - bs\n",
      "ape - sr\n",
      "awesomeness - collectiveidea\n",
      "audited - collectiveidea\n",
      "acts_as_geocodable - collectiveidea\n",
      "acts_as_money - collectiveidea\n",
      "calendar_builder - collectiveidea\n",
      "clear_empty_attributes - collectiveidea\n",
      "css_naked_day - collectiveidea\n"
     ]
    }
   ],
   "source": [
    "import urllib.request as req\n",
    "import os.path, random\n",
    "import json\n",
    "# JSON 데이터 내려받기 --- (※1)\n",
    "url = \"https://api.github.com/repositories\"\n",
    "savename = \"repo.json\"\n",
    "if not os.path.exists(url):\n",
    "    req.urlretrieve(url, savename)\n",
    "# JSON 파일 분석하기 --- (※2)\n",
    "# json.load() 함수의 매개변수에는 open() 함수의 리턴값이 파일 포인터를 지정. 그리고 JSON 형식의 문자열 지정\n",
    "items = json.load(open(savename, \"r\", encoding=\"utf-8\"))\n",
    "# 또는\n",
    "# s = open(savename, \"r\", encoding=\"utf-8\").read()\n",
    "# items = json.loads(s)\n",
    "# 출력하기 --- (※3)\n",
    "for item in items:\n",
    "    print(item[\"name\"] + \" - \" + item[\"owner\"][\"login\"])"
   ]
  },
  {
   "cell_type": "markdown",
   "metadata": {},
   "source": [
    "### JSON 형식으로 출력하기\n",
    "* 파이썬에서 생성한 데이터를 JSON 형식으로 출력하는 기능도 있음. \n",
    "* JSON 형식으로 출력할 때는 json.dumps() 함수를 사용함.\n",
    "* 다음의 예제는 json 형태로 만들어주고 있음"
   ]
  },
  {
   "cell_type": "code",
   "execution_count": 7,
   "metadata": {},
   "outputs": [
    {
     "name": "stdout",
     "output_type": "stream",
     "text": [
      "{\"date\": \"2018-09-20\", \"price\": {\"Apple\": 80, \"Orange\": 55, \"Banana\": 40}}\n"
     ]
    }
   ],
   "source": [
    "import json\n",
    "price = {\n",
    "    \"date\": \"2018-09-20\",\n",
    "    \"price\": {\n",
    "        \"Apple\":80, \n",
    "        \"Orange\":55,\n",
    "        \"Banana\": 40\n",
    "    }\n",
    "}\n",
    "s=json.dumps(price)\n",
    "print(s)"
   ]
  },
  {
   "cell_type": "markdown",
   "metadata": {},
   "source": [
    "### CSV, TSV 분석\n",
    "* CSV(Comma Seperated valeus)는 각 필드를 쉼표로 구분함. 텍스트 에디터를 사용해 간단하게 수정가능. TSV는 tab으로 구분된 파일이고 space로 구분된 SSV 파일도 있음.\n",
    "\n",
    "#### 파이썬에서 단순한 CSV 파일 읽기\n",
    "* 간단하게 다음의 CSV 파일을 읽어 list-euckr.csv 로 저장하자. \n",
    "\n",
    "ID, 이름, 가격\n",
    "1000, 비누, 300\n",
    "1001, 장갑, 150\n",
    "1002, 마스크, 230\n",
    "\n",
    "* 다음은 이러한 csv 파일을 읽어들이는 예제임."
   ]
  },
  {
   "cell_type": "code",
   "execution_count": 8,
   "metadata": {},
   "outputs": [
    {
     "name": "stdout",
     "output_type": "stream",
     "text": [
      "이름 가격\n",
      "비누 300\n",
      "장갑 150\n",
      "마스크 230\n"
     ]
    }
   ],
   "source": [
    "import codecs\n",
    "# EUC_KR로 저장된 CSV 파일 읽기\n",
    "filename = \"list-euckr.csv\"\n",
    "csv = codecs.open(filename, \"r\", \"euc_kr\").read()\n",
    "# CSV을 파이썬 리스트로 변환하기\n",
    "data = []\n",
    "rows = csv.split(\"\\r\\n\")\n",
    "for row in rows:\n",
    "    if row == \"\": continue\n",
    "    cells = row.split(\",\")\n",
    "    data.append(cells)\n",
    "# 결과 출력하기\n",
    "for c in data:\n",
    "    print(c[1], c[2])"
   ]
  },
  {
   "cell_type": "markdown",
   "metadata": {},
   "source": [
    "#### 파이썬의 csv 모듈 사용하기\n",
    "* 대용량 CSV 파일을 분석하기 위해서는 csv 모듈을 이용하는 것이 편리함\n",
    "* 다음은 이전의 CSV 파일을 csv 모듈을 이용해 읽어들이는 예제임"
   ]
  },
  {
   "cell_type": "code",
   "execution_count": 12,
   "metadata": {},
   "outputs": [
    {
     "name": "stdout",
     "output_type": "stream",
     "text": [
      "이름 가격\n",
      "비누 300\n",
      "장갑 150\n",
      "마스크 230\n"
     ]
    }
   ],
   "source": [
    "import csv, codecs\n",
    "# CSV 파일 열기\n",
    "filename = \"list-euckr.csv\"\n",
    "# 한글을 읽어들이기 위해 euc-kr 이용\n",
    "fp = codecs.open(filename, \"r\", \"euc-kr\")\n",
    "# 한 줄씩 읽어 들이기, delimiter는 어떻게 구분되어 있는지 quotechar는 어떤 기호로 데이터를 감싸고 있는 지 지정 가능함.\n",
    "reader = csv.reader(fp, delimiter=\",\", quotechar='\"')\n",
    "for cells in reader:\n",
    "    print(cells[1], cells[2])"
   ]
  },
  {
   "cell_type": "markdown",
   "metadata": {},
   "source": [
    "#### CSV 파일  쓰기\n",
    "* 다음은 test.csv 파일을 생성하는 예제임"
   ]
  },
  {
   "cell_type": "code",
   "execution_count": 13,
   "metadata": {},
   "outputs": [],
   "source": [
    "import csv, codecs\n",
    "with codecs.open(\"test.csv\", \"w\", \"euc_kr \") as fp:\n",
    "    writer = csv.writer(fp, delimiter=\",\", quotechar='\"')\n",
    "    writer.writerow([\"ID\", \"이름\", \"가격\"])\n",
    "    writer.writerow([\"1000\", \"SD 카드 \", 30000])\n",
    "    writer.writerow([\"1001\", \"키보드\", 21000])\n",
    "    writer.writerow([\"1002\", \"마우스\", 15000])"
   ]
  },
  {
   "cell_type": "markdown",
   "metadata": {},
   "source": [
    "### Pandas 사용해 보기\n",
    "* 데이터 분석 라이브러리 Pandas를 이용하면 CSV 파일을 쉽게 읽고 편집하는 것이 가능함\n",
    "* 엑셀 파일을 읽고 쓰기 위해 파이썬에서는 openpyxl을 제고앟고 있는데 이를 이용해서 엑셀을 읽고 쓰는 것이 가능함.\n",
    "\n",
    "* Terminal에서 \"pip install openpyxl\" 설치해보자.\n",
    "* 엑셀 파일을 읽어보기 위해 <http://www.index.go.kr\"> 국가 지표 체계 사이트를 이용하여 엑셀을 내려받자.\n",
    "* 다음은 자치단체 행정구역 및 인구현황 엑셀파일이 있는 페이지로서 여기서 엑셀을 다운로드 받아 적절한 이름으로 다시 저장하자.\n",
    "* openpyxl의 경우 최신 엑셀 파일만 지원하므로 xlsx로 저장해야 한다.\n",
    "* <http://www.index.go.kr/potal/main/EachDtlPageDetail.do?idx_cd=1041>\n",
    "* 다음의 예제는 엑셀 파일을 읽고 2015년도의 인구가 적은 순서대로 5위까지 출력하고 있음."
   ]
  },
  {
   "cell_type": "code",
   "execution_count": 103,
   "metadata": {},
   "outputs": [
    {
     "name": "stdout",
     "output_type": "stream",
     "text": [
      "1 세종 280\n",
      "2 제주 657\n",
      "3 울산 1165\n",
      "4 광주 1463\n",
      "5 대전 1502\n"
     ]
    }
   ],
   "source": [
    "import openpyxl \n",
    "# 엑셀 파일 열기く --- (※1)\n",
    "filename = \"stat_104102.xlsx\"\n",
    "book = openpyxl.load_workbook(filename)\n",
    "# 맨 앞의 시트 추출하기 --- (※2)\n",
    "sheet = book.worksheets[0]\n",
    "# 시트의 각 행을 순서대로 추출하기 --- (※3)\n",
    "data = []\n",
    "\n",
    "for row in sheet.rows:\n",
    "    data.append([\n",
    "        row[0].value,\n",
    "        row[10].value\n",
    "    ])\n",
    "# 필요없는 줄(헤더, 연도, 계) 제거하기, 마지막부분 제거하기\n",
    "data1=data[3:21]\n",
    "# 데이터를 인구 순서로 정렬합니다.\n",
    "data1 = sorted(data1, key=lambda x:x[1])\n",
    "# 하위 5위를 출력합니다.\n",
    "for i, a in enumerate(data1):\n",
    "    if (i >= 5): break\n",
    "    print(i+1, a[0], int(a[1]))"
   ]
  },
  {
   "cell_type": "markdown",
   "metadata": {},
   "source": [
    "#### 파이썬으로 엑셀파일 쓰기\n",
    "* 엑셀 파일로 저장해보기 "
   ]
  },
  {
   "cell_type": "code",
   "execution_count": 111,
   "metadata": {},
   "outputs": [
    {
     "name": "stdout",
     "output_type": "stream",
     "text": [
      "서울 제외 인구 = 39339\n",
      "서울 제외 인구 = 39565\n",
      "서울 제외 인구 = 40203\n",
      "서울 제외 인구 = 40484\n",
      "서울 제외 인구 = 40753\n",
      "서울 제외 인구 = 40997\n",
      "서울 제외 인구 = 41225\n",
      "서울 제외 인구 = 41507\n",
      "서울 제외 인구 = 41766\n",
      "ok\n"
     ]
    }
   ],
   "source": [
    "import openpyxl \n",
    "# 엑셀 파일 열기 --- (※1)\n",
    "filename = \"stat_104102.xlsx\"\n",
    "book = openpyxl.load_workbook(filename)\n",
    "# 활성화된 시트 추출하기 --- (※2)\n",
    "sheet = book.active\n",
    "# 서울을 제외한 인구를 구해서 쓰기 --- (※3)\n",
    "for i in range(0, 9):\n",
    "    total = int(sheet[str(chr(i + 66)) + \"4\"].value)\n",
    "    seoul = int(sheet[str(chr(i + 66)) + \"5\"].value)\n",
    "    output = total - seoul\n",
    "    print(\"서울 제외 인구 =\", output)\n",
    "    # 쓰기 --- (※4)\n",
    "    sheet[str(chr(i + 66)) + \"21\"] = output\n",
    "    cell = sheet[str(chr(i + 66)) + \"21\"]\n",
    "    # 폰트와 색상 변경해보기 --- (※5)\n",
    "    cell.font = openpyxl.styles.Font(size=14,color=\"FF0000\")\n",
    "    cell.number_format = cell.number_format\n",
    "# 엑셀 파일 저장하기 --- (※6)\n",
    "filename = \"population.xlsx\"\n",
    "book.save(filename)\n",
    "print(\"ok\")"
   ]
  },
  {
   "cell_type": "markdown",
   "metadata": {},
   "source": [
    "### Pandas를 이용해 엑셀 읽고 쓰기\n",
    "* pandas, xlrd를 이용해 좀 더 쉽게 엑셀을 읽고 쓰는 것이 가능함"
   ]
  },
  {
   "cell_type": "code",
   "execution_count": 123,
   "metadata": {},
   "outputs": [
    {
     "name": "stdout",
     "output_type": "stream",
     "text": [
      "     2008   2009   2010   2011   2012   2013   2014   2015   2016   2017\n",
      "계   49540  49773  50515  50734  50948  51141  51328  51529  51696  51778\n",
      "경기  11292  11460  11787  11937  12093  12235  12358  12522  12716  12873\n",
      "서울  10201  10208  10312  10250  10195  10144  10103  10022   9930   9857\n",
      "부산   3565   3543   3568   3551   3538   3528   3519   3513   3498   3470\n",
      "경남   3225   3250   3291   3309   3319   3333   3350   3364   3373   3380\n",
      "인천   2693   2710   2758   2801   2844   2880   2903   2925   2943   2948\n",
      "경북   2674   2669   2690   2699   2698   2699   2701   2702   2700   2691\n",
      "대구   2493   2489   2512   2508   2506   2502   2493   2487   2484   2475\n",
      "충남   2019   2037   2075   2101   2029   2048   2062   2077   2096   2116\n",
      "전남   1919   1913   1918   1914   1910   1907   1906   1908   1903   1896\n",
      "전북   1856   1854   1869   1874   1873   1873   1872   1869   1864   1854\n",
      "충북   1520   1527   1549   1563   1566   1573   1579   1583   1591   1594\n",
      "강원   1509   1512   1530   1536   1539   1542   1544   1549   1550   1550\n",
      "대전   1481   1484   1504   1516   1525   1533   1532   1518   1514   1502\n",
      "광주   1423   1433   1455   1463   1469   1473   1476   1472   1469   1463\n",
      "울산   1112   1114   1126   1136   1147   1156   1166   1173   1172   1165\n",
      "제주    561    562    571    576    584    593    607    624    641    657\n",
      "세종      0      0      0      0    113    122    156    210    243    280\n"
     ]
    }
   ],
   "source": [
    "# import pandas as pd\n",
    "# 엑셀 파일 열기 --- (※1)\n",
    "filename = \"stat_104102-1.xlsx\" # 파일 이름\n",
    "book = pd.read_excel(filename) \n",
    "# 2017년 인구로 정렬 --- (※2)\n",
    "book = book.sort_values(by=2017, ascending=False)\n",
    "print(book)"
   ]
  },
  {
   "cell_type": "markdown",
   "metadata": {},
   "source": [
    "### Pandas 사용법\n",
    "* 다음의 URL에서 pandas를 공부해보자\n",
    "<https://dandyrilla.github.io/2017-08-12/pandas-10min/>"
   ]
  },
  {
   "cell_type": "code",
   "execution_count": null,
   "metadata": {},
   "outputs": [],
   "source": []
  }
 ],
 "metadata": {
  "kernelspec": {
   "display_name": "Python 3",
   "language": "python",
   "name": "python3"
  },
  "language_info": {
   "codemirror_mode": {
    "name": "ipython",
    "version": 3
   },
   "file_extension": ".py",
   "mimetype": "text/x-python",
   "name": "python",
   "nbconvert_exporter": "python",
   "pygments_lexer": "ipython3",
   "version": "3.6.5"
  }
 },
 "nbformat": 4,
 "nbformat_minor": 2
}
